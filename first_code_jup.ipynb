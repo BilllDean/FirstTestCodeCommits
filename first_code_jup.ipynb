{
 "cells": [
  {
   "cell_type": "code",
   "execution_count": null,
   "metadata": {},
   "outputs": [],
   "source": [
    "##first code notes\n",
    "print('hi')"
   ]
  },
  {
   "cell_type": "markdown",
   "metadata": {},
   "source": [
    "Saying hi to the world"
   ]
  },
  {
   "cell_type": "code",
   "execution_count": null,
   "metadata": {},
   "outputs": [],
   "source": [
    "##just saying hi\n",
    "print('hi')\n"
   ]
  },
  {
   "cell_type": "markdown",
   "metadata": {},
   "source": [
    "Adding a loop"
   ]
  },
  {
   "cell_type": "code",
   "execution_count": null,
   "metadata": {},
   "outputs": [],
   "source": [
    "##countdown loop\n",
    "x = 35\n",
    "while x > 0 :\n",
    "    print(x)\n",
    "    x = x - 1\n",
    "print('yay')"
   ]
  },
  {
   "cell_type": "markdown",
   "metadata": {},
   "source": [
    "Fun math"
   ]
  },
  {
   "cell_type": "code",
   "execution_count": null,
   "metadata": {},
   "outputs": [],
   "source": [
    "x = 5\n",
    "x = 4 * x / (2**10)\n",
    "print(x)\n",
    "type(x)"
   ]
  },
  {
   "cell_type": "markdown",
   "metadata": {},
   "source": [
    "First input"
   ]
  },
  {
   "cell_type": "code",
   "execution_count": null,
   "metadata": {},
   "outputs": [],
   "source": [
    "nam = input(\"who are you?\")\n",
    "print('hi', nam)"
   ]
  },
  {
   "cell_type": "markdown",
   "metadata": {},
   "source": [
    "How many Champs return"
   ]
  },
  {
   "cell_type": "code",
   "execution_count": 1,
   "metadata": {},
   "outputs": [
    {
     "name": "stdout",
     "output_type": "stream",
     "text": [
      "Steeler Champs 3\n"
     ]
    }
   ],
   "source": [
    "inp = input(\"Packers Champs\")\n",
    "usf = int(inp) - 1\n",
    "print(\"Steeler Champs\", usf)"
   ]
  },
  {
   "cell_type": "code",
   "execution_count": 2,
   "metadata": {},
   "outputs": [
    {
     "name": "stdout",
     "output_type": "stream",
     "text": [
      "123abc\n"
     ]
    }
   ],
   "source": [
    "print(\"123\" + \"abc\")"
   ]
  },
  {
   "cell_type": "markdown",
   "metadata": {},
   "source": [
    "Prompt practice"
   ]
  },
  {
   "cell_type": "code",
   "execution_count": 9,
   "metadata": {},
   "outputs": [
    {
     "name": "stdout",
     "output_type": "stream",
     "text": [
      "Pay: 175.0\n"
     ]
    }
   ],
   "source": [
    "hrs = input(\"Enter Hours:\")\n",
    "rate = input(\"Enter Rate:\")\n",
    "pay = float(hrs) * float(rate)\n",
    "print(\"Pay:\",pay) "
   ]
  },
  {
   "cell_type": "markdown",
   "metadata": {},
   "source": [
    "IF then else practice\n",
    "must follow logic, will stop at furst met condition"
   ]
  },
  {
   "cell_type": "code",
   "execution_count": 1,
   "metadata": {},
   "outputs": [
    {
     "name": "stdout",
     "output_type": "stream",
     "text": [
      "you went the wrong way\n"
     ]
    }
   ],
   "source": [
    "x = input(\"Enter Age\",)\n",
    "if int(x) == 35 :\n",
    "    print(\"welcome aboard\")\n",
    "elif int(x) < 35 :\n",
    "    print(\"no cigar\")\n",
    "else :\n",
    "    print(\"you went the wrong way\")\n",
    "\n"
   ]
  },
  {
   "cell_type": "markdown",
   "metadata": {},
   "source": [
    "basic errors with try and except\n",
    "checking for integer to be entered"
   ]
  },
  {
   "cell_type": "code",
   "execution_count": 36,
   "metadata": {},
   "outputs": [
    {
     "name": "stdout",
     "output_type": "stream",
     "text": [
      "try again sucker\n"
     ]
    }
   ],
   "source": [
    "nmber = input(\"enter number:\",)\n",
    "try:\n",
    "    valuation = int(nmber)\n",
    "except:\n",
    "    valuation = -1\n",
    "if valuation > 0 :\n",
    "    print(\"you did it\")\n",
    "else:\n",
    "    print(\"try again sucker\")"
   ]
  },
  {
   "cell_type": "markdown",
   "metadata": {},
   "source": [
    "using def to store multi use code"
   ]
  },
  {
   "cell_type": "code",
   "execution_count": 38,
   "metadata": {},
   "outputs": [
    {
     "name": "stdout",
     "output_type": "stream",
     "text": [
      "roses are red\n",
      "violets are blue\n"
     ]
    }
   ],
   "source": [
    "def poem():\n",
    "    print(\"roses are red\")\n",
    "    print(\"violets are blue\")\n",
    "\n",
    "poem()"
   ]
  },
  {
   "cell_type": "markdown",
   "metadata": {},
   "source": [
    "adding parameters to def"
   ]
  },
  {
   "cell_type": "code",
   "execution_count": 59,
   "metadata": {},
   "outputs": [
    {
     "name": "stdout",
     "output_type": "stream",
     "text": [
      "roses are red\n",
      "violets are blue\n"
     ]
    }
   ],
   "source": [
    "def poem(composer):\n",
    "    if composer.casefold() == \"blink 182\".casefold():\n",
    "        print(\"what's my age again?\")\n",
    "    elif composer.casefold() == \"Kenny Chesney\".casefold():\n",
    "        print(\"she thinks my tractors sexy\")\n",
    "    else:    \n",
    "        print(\"roses are red\")\n",
    "        print(\"violets are blue\")\n",
    "\n",
    "poem(\"\")"
   ]
  },
  {
   "cell_type": "code",
   "execution_count": 67,
   "metadata": {},
   "outputs": [
    {
     "name": "stdout",
     "output_type": "stream",
     "text": [
      "12563\n"
     ]
    }
   ],
   "source": [
    "big = max(123,456,12563,5)\n",
    "print(big)"
   ]
  },
  {
   "cell_type": "code",
   "execution_count": 68,
   "metadata": {},
   "outputs": [
    {
     "name": "stdout",
     "output_type": "stream",
     "text": [
      "Hello\n"
     ]
    }
   ],
   "source": [
    "def stuff():\n",
    "    print('Hello')\n",
    "    return\n",
    "    print('World')\n",
    "\n",
    "stuff()"
   ]
  },
  {
   "cell_type": "markdown",
   "metadata": {},
   "source": [
    "def with multiple parameters and pay calculation"
   ]
  },
  {
   "cell_type": "code",
   "execution_count": 71,
   "metadata": {},
   "outputs": [
    {
     "name": "stdout",
     "output_type": "stream",
     "text": [
      "Pay 498.75\n"
     ]
    }
   ],
   "source": [
    "def computepay(h, r):\n",
    "    if h <= 40:\n",
    "        regpay = h * r\n",
    "        return regpay\n",
    "    elif h > 40:\n",
    "        otp = (h - 40) * (r * .5) + (h * r)\n",
    "        return otp\n",
    "        \n",
    "\n",
    "hrs = input(\"Enter Hours:\")\n",
    "rate = input(\"Enter Hours:\")\n",
    "h = float(hrs)\n",
    "r = float(rate)\n",
    "p = computepay(h, r)\n",
    "print(\"Pay\", p)"
   ]
  }
 ],
 "metadata": {
  "kernelspec": {
   "display_name": "Python 3.10.6 64-bit",
   "language": "python",
   "name": "python3"
  },
  "language_info": {
   "codemirror_mode": {
    "name": "ipython",
    "version": 3
   },
   "file_extension": ".py",
   "mimetype": "text/x-python",
   "name": "python",
   "nbconvert_exporter": "python",
   "pygments_lexer": "ipython3",
   "version": "3.10.6"
  },
  "orig_nbformat": 4,
  "vscode": {
   "interpreter": {
    "hash": "c081e20a6379878ebbee47691f0ee2ac6b42cd67db80ac83743001cc7c85bf32"
   }
  }
 },
 "nbformat": 4,
 "nbformat_minor": 2
}
